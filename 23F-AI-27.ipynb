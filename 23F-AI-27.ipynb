{
  "nbformat": 4,
  "nbformat_minor": 0,
  "metadata": {
    "colab": {
      "provenance": []
    },
    "kernelspec": {
      "name": "python3",
      "display_name": "Python 3"
    },
    "language_info": {
      "name": "python"
    }
  },
  "cells": [
    {
      "cell_type": "code",
      "execution_count": 7,
      "metadata": {
        "colab": {
          "base_uri": "https://localhost:8080/"
        },
        "id": "JL_D2007OL8g",
        "outputId": "bebb0828-762d-4997-92a9-044130d01fb5"
      },
      "outputs": [
        {
          "output_type": "stream",
          "name": "stdout",
          "text": [
            "Requirement already satisfied: Pandas in /usr/local/lib/python3.11/dist-packages (2.2.2)\n",
            "Requirement already satisfied: numpy>=1.23.2 in /usr/local/lib/python3.11/dist-packages (from Pandas) (2.0.2)\n",
            "Requirement already satisfied: python-dateutil>=2.8.2 in /usr/local/lib/python3.11/dist-packages (from Pandas) (2.8.2)\n",
            "Requirement already satisfied: pytz>=2020.1 in /usr/local/lib/python3.11/dist-packages (from Pandas) (2025.2)\n",
            "Requirement already satisfied: tzdata>=2022.7 in /usr/local/lib/python3.11/dist-packages (from Pandas) (2025.2)\n",
            "Requirement already satisfied: six>=1.5 in /usr/local/lib/python3.11/dist-packages (from python-dateutil>=2.8.2->Pandas) (1.17.0)\n",
            "Total number of passengers: 50\n",
            "\n",
            "Passengers traveling to each destination:\n",
            "destination\n",
            "Lahore       12\n",
            "Quetta       12\n",
            "Karachi      10\n",
            "Islamabad     9\n",
            "Peshawar      7\n",
            "Name: count, dtype: int64\n",
            "\n",
            "Average ticket price by gender:\n",
            "gender\n",
            "F    14855.464286\n",
            "M    14581.727273\n",
            "Name: ticket_price, dtype: float64\n"
          ]
        }
      ],
      "source": [
        "!pip install Pandas\n",
        "import pandas as pd\n",
        "\n",
        "df = pd.read_csv('/content/passenger_data.csv')\n",
        "\n",
        "# Part 1 – Data Processing with Pandas\n",
        "\n",
        "print(\"Total number of passengers:\", len(df))\n",
        "\n",
        "print(\"\\nPassengers traveling to each destination:\")\n",
        "print(df['destination'].value_counts())\n",
        "\n",
        "print(\"\\nAverage ticket price by gender:\")\n",
        "print(df.groupby('gender')['ticket_price'].mean())"
      ]
    },
    {
      "cell_type": "code",
      "source": [
        "# Part 2 – Python Filtering and Analysis\n",
        "\n",
        "def get_passengers_by_destination(dest):\n",
        "    filtered = df[df['destination'].str.lower() == dest.lower()]\n",
        "    return filtered['name'].tolist()\n",
        "\n",
        "print(get_passengers_by_destination(\"Karachi\"))\n",
        "\n",
        "def get_highest_paying_passenger():\n",
        "    max_price_idx = df['ticket_price'].idxmax()\n",
        "    highest_payer = df.loc[max_price_idx]\n",
        "    return highest_payer['name'], highest_payer['destination']\n",
        "\n",
        "print(get_highest_paying_passenger())"
      ],
      "metadata": {
        "colab": {
          "base_uri": "https://localhost:8080/"
        },
        "id": "GpY2MQ_6Q9J0",
        "outputId": "4055d054-09f2-41ad-ba1a-d8ce86c1443b"
      },
      "execution_count": 8,
      "outputs": [
        {
          "output_type": "stream",
          "name": "stdout",
          "text": [
            "['Usman Rafiq', 'Ayesha Noor', 'Usman Rafiq', 'Iqra Ahmed', 'Taha Kamal', 'Laiba Yousuf', 'Hiba Noor', 'Bilal Aslam', 'Mariam Ali', 'Mariam Ali']\n",
            "('Ayesha Noor', 'Quetta')\n"
          ]
        }
      ]
    },
    {
      "cell_type": "code",
      "source": [
        "\n",
        "# Part 3 – Sorting and Logic\n",
        "\n",
        "sorted_df = df.sort_values(by='ticket_price', ascending=False)\n",
        "print(sorted_df)\n",
        "\n",
        "print(\"\\nTop 3 passengers by ticket price:\")\n",
        "print(sorted_df[['name', 'age', 'ticket_price']].head(3))\n"
      ],
      "metadata": {
        "colab": {
          "base_uri": "https://localhost:8080/"
        },
        "id": "lY7UeID-RBAa",
        "outputId": "eead0286-8b14-475c-de9a-84102e302d57"
      },
      "execution_count": 9,
      "outputs": [
        {
          "output_type": "stream",
          "name": "stdout",
          "text": [
            "   passenger_id            name  age gender destination  ticket_price\n",
            "14         P015     Ayesha Noor   33      M      Quetta         19950\n",
            "16         P017    Ahmed Nadeem   28      M      Lahore         19780\n",
            "22         P023    Ahmed Nadeem   34      M    Peshawar         19636\n",
            "36         P037      Sana Javed   37      F      Quetta         19157\n",
            "10         P011      Taha Kamal   38      F   Islamabad         18764\n",
            "9          P010     Sarah Malik   48      F   Islamabad         18658\n",
            "39         P040     Bilal Aslam   40      F      Quetta         18635\n",
            "8          P009    Zainab Tariq   49      F      Quetta         18625\n",
            "2          P003     Rehan Ahmed   24      M      Quetta         18227\n",
            "3          P004        Ali Khan   32      M      Lahore         18130\n",
            "41         P042   Fatima Hassan   24      F      Lahore         17680\n",
            "1          P002    Nimra Shahid   57      M      Lahore         17048\n",
            "45         P046     Bilal Aslam   59      F     Karachi         16730\n",
            "49         P050      Mariam Ali   28      F     Karachi         16557\n",
            "17         P018     Hamza Tariq   43      F      Quetta         16195\n",
            "25         P026  Danish Qureshi   54      M   Islamabad         16013\n",
            "0          P001     Usman Rafiq   23      F     Karachi         15677\n",
            "44         P045      Sana Javed   53      M    Peshawar         15547\n",
            "40         P041     Zara Sheikh   57      F    Peshawar         15537\n",
            "21         P022     Ayesha Noor   40      F    Peshawar         15119\n",
            "7          P008     Rehan Ahmed   48      M      Lahore         14950\n",
            "28         P029        Ali Khan   30      F      Lahore         14906\n",
            "38         P039    Nimra Shahid   53      F      Quetta         14764\n",
            "35         P036    Zainab Tariq   38      F   Islamabad         14565\n",
            "32         P033      Taha Kamal   42      F      Quetta         14491\n",
            "4          P005    Laiba Yousuf   25      F      Lahore         14286\n",
            "6          P007       Hiba Noor   19      M      Lahore         14263\n",
            "24         P025    Zainab Tariq   54      M    Peshawar         14256\n",
            "31         P032    Zainab Tariq   36      F      Quetta         14157\n",
            "18         P019    Nimra Shahid   21      M   Islamabad         13990\n",
            "33         P034    Zainab Tariq   38      M      Quetta         13896\n",
            "23         P024     Ayesha Noor   39      F     Karachi         13170\n",
            "26         P027     Usman Rafiq   40      F     Karachi         13100\n",
            "13         P014     Bilal Aslam   35      F   Islamabad         13098\n",
            "12         P013        Ali Khan   44      M   Islamabad         13008\n",
            "37         P038        Ali Khan   49      F      Lahore         12729\n",
            "20         P021      Mariam Ali   28      M   Islamabad         12557\n",
            "43         P044     Hamza Tariq   48      M      Lahore         12424\n",
            "29         P030      Taha Kamal   39      F     Karachi         12178\n",
            "46         P047      Mariam Ali   41      F     Karachi         12060\n",
            "47         P048     Usman Rafiq   44      F    Peshawar         11990\n",
            "15         P016   Fatima Hassan   59      F      Quetta         11872\n",
            "34         P035    Laiba Yousuf   55      M     Karachi         11739\n",
            "19         P020      Sana Javed   46      M    Peshawar         11733\n",
            "5          P006    Nimra Shahid   33      M      Lahore         11251\n",
            "48         P049   Fatima Hassan   37      M      Quetta         11219\n",
            "42         P043       Hiba Noor   49      M     Karachi         11060\n",
            "11         P012   Fatima Hassan   59      F   Islamabad         10916\n",
            "27         P028      Iqra Ahmed   24      F     Karachi         10337\n",
            "30         P031     Bilal Aslam   26      M      Lahore         10121\n",
            "\n",
            "Top 3 passengers by ticket price:\n",
            "            name  age  ticket_price\n",
            "14   Ayesha Noor   33         19950\n",
            "16  Ahmed Nadeem   28         19780\n",
            "22  Ahmed Nadeem   34         19636\n"
          ]
        }
      ]
    },
    {
      "cell_type": "code",
      "source": [
        "# Bonus Task – Custom Filtering\n",
        "\n",
        "def filter_by_age_threshold():\n",
        "    try:\n",
        "        threshold = int(input(\"Enter an age threshold: \"))\n",
        "        count = len(df[df['age'] < threshold])\n",
        "        print(f\"\\nNumber of passengers younger than {threshold}: {count}\")\n",
        "    except ValueError:\n",
        "        print(\"Please enter a valid integer.\")\n",
        "\n",
        "filter_by_age_threshold()"
      ],
      "metadata": {
        "colab": {
          "base_uri": "https://localhost:8080/"
        },
        "id": "XNppHyt7REGm",
        "outputId": "55a7c972-bbb9-4438-e3f7-30774d143cd6"
      },
      "execution_count": 10,
      "outputs": [
        {
          "output_type": "stream",
          "name": "stdout",
          "text": [
            "Enter an age threshold: 30\n",
            "\n",
            "Number of passengers younger than 30: 11\n"
          ]
        }
      ]
    }
  ]
}